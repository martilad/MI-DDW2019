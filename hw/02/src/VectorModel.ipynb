{
 "cells": [
  {
   "cell_type": "markdown",
   "metadata": {},
   "source": [
    "# HW2 - Indexing & Document Retrieval"
   ]
  },
  {
   "cell_type": "code",
   "execution_count": 1,
   "metadata": {},
   "outputs": [],
   "source": [
    "# import\n",
    "from IPython.display import display, Markdown, Latex\n",
    "from sklearn.metrics.pairwise import cosine_similarity\n",
    "from sklearn.metrics.pairwise import euclidean_distances\n",
    "from sklearn.feature_extraction.text import TfidfVectorizer\n",
    "from sklearn.feature_extraction.text import CountVectorizer\n",
    "import numpy as np\n",
    "from os import listdir\n",
    "from os.path import isfile, join\n",
    "import csv\n",
    "import matplotlib.pyplot as plt"
   ]
  },
  {
   "cell_type": "markdown",
   "metadata": {},
   "source": [
    "## Load data and some helpful methods"
   ]
  },
  {
   "cell_type": "code",
   "execution_count": 2,
   "metadata": {},
   "outputs": [],
   "source": [
    "# Get data from files and return list\n",
    "def load_data_from_files(path, range_size, suffix):\n",
    "    tmp = []\n",
    "    for d in range(range_size):\n",
    "        f = open(path+str(d+1)+\".\"+suffix)\n",
    "        tmp.append(f.read())\n",
    "    return tmp"
   ]
  },
  {
   "cell_type": "code",
   "execution_count": 3,
   "metadata": {},
   "outputs": [],
   "source": [
    "# set contants\n",
    "data_file_path = \"../data/d/\"\n",
    "query_file_path = \"../data/q/\"\n",
    "reference_file_path = \"../data/r/\"\n",
    "n_documents = 1400\n",
    "n_query = 225"
   ]
  },
  {
   "cell_type": "code",
   "execution_count": 4,
   "metadata": {},
   "outputs": [],
   "source": [
    "# load data to lists\n",
    "data = load_data_from_files(data_file_path, n_documents, \"txt\")\n",
    "query = load_data_from_files(query_file_path, n_query, \"txt\")\n",
    "# append it for can vectorize to same size of vector and computing tf-idf\n",
    "for i in query:\n",
    "    data.append(i)\n",
    "# load references for query to list of set.\n",
    "# they not have same size, set is fast for find the same.\n",
    "ref = [{int(j) for j in i.split()} for i in load_data_from_files(reference_file_path, 225, \"txt\")]"
   ]
  },
  {
   "cell_type": "code",
   "execution_count": 5,
   "metadata": {},
   "outputs": [],
   "source": [
    "# compute similarity for query vector\n",
    "# return top_n relevant documents, similarities for relevant and not sorted similarities\n",
    "def get_top_n_relevant(query_vector, data, n, metric, ascent = True):\n",
    "    sim = np.array(metric(query_vector, data)[0])\n",
    "    if ascent: return sim.argsort()[:n]+1, sorted(sim)[:n], sim\n",
    "    return sim.argsort()[-n:][::-1]+1, sorted(sim)[-n:][::-1], sim"
   ]
  },
  {
   "cell_type": "markdown",
   "metadata": {},
   "source": [
    "## Create representation with the vector model with four different weightings"
   ]
  },
  {
   "cell_type": "code",
   "execution_count": 6,
   "metadata": {},
   "outputs": [],
   "source": [
    "# create model of data and query for tf-idf\n",
    "tfidf_data_matrix = TfidfVectorizer(analyzer = 'word', stop_words = 'english').fit_transform(data)\n",
    "tfidf_query_matrix = tfidf_data_matrix[len(data)-len(query):]\n",
    "tfidf_data_matrix = tfidf_data_matrix[:len(data)-len(query)]"
   ]
  },
  {
   "cell_type": "code",
   "execution_count": 7,
   "metadata": {},
   "outputs": [],
   "source": [
    "# create model of data and query on pure raw count of terms \n",
    "rc_data_matrix = CountVectorizer(analyzer = 'word', stop_words = 'english').fit_transform(data).astype(np.double)\n",
    "rc_query_matrix = rc_data_matrix[len(data)-len(query):]\n",
    "rc_data_matrix = rc_data_matrix[:len(data)-len(query)]"
   ]
  },
  {
   "cell_type": "code",
   "execution_count": 8,
   "metadata": {},
   "outputs": [],
   "source": [
    "# create model of data with term frequency\n",
    "tf_data_matrix = CountVectorizer(analyzer = 'word', stop_words = 'english').fit_transform(data).astype(np.double)\n",
    "for i, j in enumerate(data):\n",
    "    tf_data_matrix[i] = tf_data_matrix[i]/tf_data_matrix[i].sum() if tf_data_matrix[i].sum() > 0 else tf_data_matrix[i]\n",
    "tf_query_matrix = tf_data_matrix[len(data)-len(query):]\n",
    "tf_data_matrix = tf_data_matrix[:len(data)-len(query)]"
   ]
  },
  {
   "cell_type": "code",
   "execution_count": 9,
   "metadata": {},
   "outputs": [],
   "source": [
    "# create binary model only replace raw count by 1 in sparse matrix representation of matrix\n",
    "binary_data_matrix = CountVectorizer(analyzer = 'word', stop_words = 'english').fit_transform(data)\n",
    "# so replece with same matrix with ones\n",
    "binary_data_matrix.data = np.ones(shape=binary_data_matrix.data.shape, dtype=binary_data_matrix.data.dtype)\n",
    "binary_query_matrix = binary_data_matrix[len(data)-len(query):]\n",
    "binary_data_matrix = binary_data_matrix[:len(data)-len(query)]"
   ]
  },
  {
   "cell_type": "markdown",
   "metadata": {},
   "source": [
    "## Write cosine similarity and Euclidean distance to files for each weighing"
   ]
  },
  {
   "cell_type": "code",
   "execution_count": 10,
   "metadata": {},
   "outputs": [],
   "source": [
    "# method for write computed in file, \n",
    "# get to n relevant return as third parameter similarity in order of documents and returl all fon n = 0\n",
    "def write_data_to_csv(file_name, matrix_with_queries, matrix_with_data, similarity_meansure):\n",
    "    with open(file_name, 'w') as myfile:\n",
    "        wr = csv.writer(myfile)\n",
    "        wr.writerow(['QID'] + [str(i+1) for i in range(n_documents)])\n",
    "        for i in range(n_query):\n",
    "            wr.writerow(np.insert(get_top_n_relevant(matrix_with_queries[i], \n",
    "                                                     matrix_with_data, \n",
    "                                                     0, \n",
    "                                                     similarity_meansure)[2], 0, i+1, axis=0))"
   ]
  },
  {
   "cell_type": "code",
   "execution_count": 11,
   "metadata": {},
   "outputs": [],
   "source": [
    "# write to csv files\n",
    "write_data_to_csv(\"../results/tfidf_cosineS.csv\", tfidf_query_matrix, tfidf_data_matrix, cosine_similarity)\n",
    "write_data_to_csv(\"../results/tfidf_euclidD.csv\", tfidf_query_matrix, tfidf_data_matrix, euclidean_distances)\n",
    "\n",
    "write_data_to_csv(\"../results/rc_cosineS.csv\", rc_query_matrix, rc_data_matrix, cosine_similarity)\n",
    "write_data_to_csv(\"../results/rc_euclidD.csv\", rc_query_matrix, rc_data_matrix, euclidean_distances)\n",
    "\n",
    "write_data_to_csv(\"../results/tf_cosineS.csv\", tf_query_matrix, tf_data_matrix, cosine_similarity)\n",
    "write_data_to_csv(\"../results/tf_euclidD.csv\", tf_query_matrix, tf_data_matrix, euclidean_distances)\n",
    "\n",
    "write_data_to_csv(\"../results/binary_cosineS.csv\", binary_query_matrix, binary_data_matrix, cosine_similarity)\n",
    "write_data_to_csv(\"../results/binary_euclidD.csv\", binary_query_matrix, binary_data_matrix, euclidean_distances)"
   ]
  },
  {
   "cell_type": "markdown",
   "metadata": {},
   "source": [
    "## Evaluate some metric such as precision, recall, and F-measure."
   ]
  },
  {
   "cell_type": "code",
   "execution_count": 12,
   "metadata": {},
   "outputs": [],
   "source": [
    "# method for computing the confusion matrix for top-n relevant\n",
    "def compute_confusion_matrix(predic_as_relevant, relevant, total_count):\n",
    "    tp = 0\n",
    "    fp = 0\n",
    "    fn = 0\n",
    "    tn = 0\n",
    "    for i in predic_as_relevant:\n",
    "        if i in relevant:\n",
    "            tp +=1\n",
    "    fn = len(relevant)-tp\n",
    "    fp = len(predic_as_relevant)-tp\n",
    "    tn = total_count - fn - fp - tp\n",
    "    return tp, fp, fn, tn"
   ]
  },
  {
   "cell_type": "code",
   "execution_count": 13,
   "metadata": {},
   "outputs": [],
   "source": [
    "def recall(tp, fp, fn, tn):\n",
    "    return tp/(tp+fn)"
   ]
  },
  {
   "cell_type": "code",
   "execution_count": 14,
   "metadata": {},
   "outputs": [],
   "source": [
    "def precision(tp, fp, fn, tn):\n",
    "    return tp/(tp+fp)"
   ]
  },
  {
   "cell_type": "code",
   "execution_count": 15,
   "metadata": {},
   "outputs": [],
   "source": [
    "def F1meansure(tp, fp, fn, tn):\n",
    "    return (2*tp)/(2*tp+fp+fn)"
   ]
  },
  {
   "cell_type": "code",
   "execution_count": 16,
   "metadata": {},
   "outputs": [],
   "source": [
    "# function for measure one n and metric on all queries and relevancy\n",
    "def meansure_it(data_query, n_query, query_relevant, data, metric_name, n, documents_count):\n",
    "    if metric_name == 'cosineS':\n",
    "        metric_name = cosine_similarity\n",
    "        a=False\n",
    "    elif metric_name == 'euclidD':\n",
    "        metric_name = euclidean_distances\n",
    "        a=True\n",
    "    else:\n",
    "        print(\"metric error\")\n",
    "        return\n",
    "    rec = 0\n",
    "    prec = 0\n",
    "    f1 = 0\n",
    "    for i in range(n_query):\n",
    "        if n == 0:\n",
    "            n = len(query_relevant[i])\n",
    "        relevant = get_top_n_relevant(data_query[i], data, n, metric_name, a)[0]\n",
    "        con = compute_confusion_matrix(relevant, query_relevant[i], documents_count)\n",
    "        rec += recall(*con)\n",
    "        prec += precision(*con)\n",
    "        f1 += F1meansure(*con)\n",
    "    return rec/n_query, prec/n_query, f1/n_query\n"
   ]
  },
  {
   "cell_type": "code",
   "execution_count": 17,
   "metadata": {},
   "outputs": [
    {
     "data": {
      "text/markdown": [
       "### tf-idf and euclidean distance"
      ],
      "text/plain": [
       "<IPython.core.display.Markdown object>"
      ]
     },
     "metadata": {},
     "output_type": "display_data"
    },
    {
     "name": "stdout",
     "output_type": "stream",
     "text": [
      "Average recall: 0.49879757943258907\n",
      "Average precision: 0.12475095785440622\n",
      "Average F-meansure: 0.18959857704755778\n"
     ]
    },
    {
     "data": {
      "text/markdown": [
       "### tf-idf and cosine similarity"
      ],
      "text/plain": [
       "<IPython.core.display.Markdown object>"
      ]
     },
     "metadata": {},
     "output_type": "display_data"
    },
    {
     "name": "stdout",
     "output_type": "stream",
     "text": [
      "Average recall: 0.5065055813072575\n",
      "Average precision: 0.1265900383141763\n",
      "Average F-meansure: 0.19248219777713485\n"
     ]
    },
    {
     "data": {
      "text/markdown": [
       "### <span style=\"color:green\"> tf and euclidean distance</span>"
      ],
      "text/plain": [
       "<IPython.core.display.Markdown object>"
      ]
     },
     "metadata": {},
     "output_type": "display_data"
    },
    {
     "name": "stdout",
     "output_type": "stream",
     "text": [
      "Average recall: 0.3579317800635903\n",
      "Average precision: 0.09241379310344836\n",
      "Average F-meansure: 0.13942847089217847\n"
     ]
    },
    {
     "data": {
      "text/markdown": [
       "### <span style=\"color:green\"> tf and cosine similarity</span>"
      ],
      "text/plain": [
       "<IPython.core.display.Markdown object>"
      ]
     },
     "metadata": {},
     "output_type": "display_data"
    },
    {
     "name": "stdout",
     "output_type": "stream",
     "text": [
      "Average recall: 0.44647888863288687\n",
      "Average precision: 0.1121839080459771\n",
      "Average F-meansure: 0.17029899219588607\n"
     ]
    },
    {
     "data": {
      "text/markdown": [
       "### raw count of terms and euclidean distance"
      ],
      "text/plain": [
       "<IPython.core.display.Markdown object>"
      ]
     },
     "metadata": {},
     "output_type": "display_data"
    },
    {
     "name": "stdout",
     "output_type": "stream",
     "text": [
      "Average recall: 0.04004874648552809\n",
      "Average precision: 0.009501915708812264\n",
      "Average F-meansure: 0.014438151004604029\n"
     ]
    },
    {
     "data": {
      "text/markdown": [
       "### raw count of terms and cosine similarity"
      ],
      "text/plain": [
       "<IPython.core.display.Markdown object>"
      ]
     },
     "metadata": {},
     "output_type": "display_data"
    },
    {
     "name": "stdout",
     "output_type": "stream",
     "text": [
      "Average recall: 0.44499740715140534\n",
      "Average precision: 0.11203065134099625\n",
      "Average F-meansure: 0.17002121441810827\n"
     ]
    },
    {
     "data": {
      "text/markdown": [
       "### <span style=\"color:green\"> binary representation and euclidean distance</span>"
      ],
      "text/plain": [
       "<IPython.core.display.Markdown object>"
      ]
     },
     "metadata": {},
     "output_type": "display_data"
    },
    {
     "name": "stdout",
     "output_type": "stream",
     "text": [
      "Average recall: 0.04727056787401613\n",
      "Average precision: 0.011647509578544057\n",
      "Average F-meansure: 0.01776157682613699\n"
     ]
    },
    {
     "data": {
      "text/markdown": [
       "### <span style=\"color:green\"> binary representation and cosine similarity</span>"
      ],
      "text/plain": [
       "<IPython.core.display.Markdown object>"
      ]
     },
     "metadata": {},
     "output_type": "display_data"
    },
    {
     "name": "stdout",
     "output_type": "stream",
     "text": [
      "Average recall: 0.4550348499555149\n",
      "Average precision: 0.11157088122605374\n",
      "Average F-meansure: 0.17061639258335246\n"
     ]
    }
   ],
   "source": [
    "# Meansure all metric with all weithing model and print average values\n",
    "# Get it for top-n which is the count of relevant in reference, \n",
    "# because I don't know the threshold and the static n can do some bias if relevant is less than n or vice versa\n",
    "display(Markdown('### tf-idf and euclidean distance'))\n",
    "print(\"Average recall: %s\\nAverage precision: %s\\nAverage F-meansure: %s\" % \n",
    "      meansure_it(tfidf_query_matrix, n_query, ref, tfidf_data_matrix, 'euclidD', 0, n_documents))\n",
    "display(Markdown('### tf-idf and cosine similarity'))\n",
    "print(\"Average recall: %s\\nAverage precision: %s\\nAverage F-meansure: %s\" % \n",
    "      meansure_it(tfidf_query_matrix, n_query, ref, tfidf_data_matrix, 'cosineS', 0, n_documents))\n",
    "\n",
    "display(Markdown('### <span style=\"color:green\"> tf and euclidean distance</span>'))\n",
    "print(\"Average recall: %s\\nAverage precision: %s\\nAverage F-meansure: %s\" % \n",
    "      meansure_it(tf_query_matrix, n_query, ref, tf_data_matrix, 'euclidD', 0, n_documents))\n",
    "display(Markdown('### <span style=\"color:green\"> tf and cosine similarity</span>'))\n",
    "print(\"Average recall: %s\\nAverage precision: %s\\nAverage F-meansure: %s\" % \n",
    "      meansure_it(tf_query_matrix, n_query, ref, tf_data_matrix, 'cosineS', 0, n_documents))\n",
    "\n",
    "display(Markdown('### raw count of terms and euclidean distance'))\n",
    "print(\"Average recall: %s\\nAverage precision: %s\\nAverage F-meansure: %s\" % \n",
    "      meansure_it(rc_query_matrix, n_query, ref, rc_data_matrix, 'euclidD', 0, n_documents))\n",
    "display(Markdown('### raw count of terms and cosine similarity'))\n",
    "print(\"Average recall: %s\\nAverage precision: %s\\nAverage F-meansure: %s\" % \n",
    "      meansure_it(rc_query_matrix, n_query, ref, rc_data_matrix, 'cosineS', 0, n_documents))\n",
    "\n",
    "display(Markdown('### <span style=\"color:green\"> binary representation and euclidean distance</span>'))\n",
    "print(\"Average recall: %s\\nAverage precision: %s\\nAverage F-meansure: %s\" % \n",
    "      meansure_it(binary_query_matrix, n_query, ref, binary_data_matrix, 'euclidD', 0, n_documents))\n",
    "display(Markdown('### <span style=\"color:green\"> binary representation and cosine similarity</span>'))\n",
    "print(\"Average recall: %s\\nAverage precision: %s\\nAverage F-meansure: %s\" % \n",
    "      meansure_it(binary_query_matrix, n_query, ref, binary_data_matrix, 'cosineS', 0, n_documents))\n"
   ]
  },
  {
   "cell_type": "code",
   "execution_count": 18,
   "metadata": {},
   "outputs": [],
   "source": [
    "data = []\n",
    "for i in range(7):\n",
    "    data.append([])\n",
    "for i in range(1, n_documents, 10):\n",
    "    data[6].append(i)\n",
    "    rec, prec, f = meansure_it(tfidf_query_matrix, n_query, ref, tfidf_data_matrix, 'euclidD', i, n_documents)\n",
    "    data[0].append(rec)\n",
    "    data[1].append(prec)\n",
    "    data[2].append(f)\n",
    "    rec, prec, f = meansure_it(tfidf_query_matrix, n_query, ref, tfidf_data_matrix, 'cosineS', i, n_documents)\n",
    "    data[3].append(rec)\n",
    "    data[4].append(prec)\n",
    "    data[5].append(f)"
   ]
  },
  {
   "cell_type": "code",
   "execution_count": 19,
   "metadata": {},
   "outputs": [
    {
     "data": {
      "image/png": "[encoded data removed]",
      "text/plain": [
       "<Figure size 1152x648 with 1 Axes>"
      ]
     },
     "metadata": {
      "needs_background": "light"
     },
     "output_type": "display_data"
    },
    {
     "data": {
      "image/png": "[encoded data removed]",
      "text/plain": [
       "<Figure size 1152x648 with 1 Axes>"
      ]
     },
     "metadata": {
      "needs_background": "light"
     },
     "output_type": "display_data"
    }
   ],
   "source": [
    "plt.rcParams[\"figure.figsize\"] = [16,9]\n",
    "plt.title('tfidf + euclidean distance metrics based on top-n returned')\n",
    "plt.plot(data[6], data[3], 'o', \n",
    "         data[6], data[4], 'o',\n",
    "         data[6], data[5], 'o')\n",
    "plt.xlabel('top-n')\n",
    "plt.ylabel('value')\n",
    "plt.legend(['recall', 'precision', 'F-meansure'])\n",
    "plt.show()\n",
    "plt.title('tfidf + cosine similarity metrics based on top-n returned')\n",
    "plt.plot(data[6], data[0], 'o', \n",
    "         data[6], data[1], 'o', \n",
    "         data[6], data[2], 'o',)\n",
    "plt.xlabel('top-n')\n",
    "plt.legend(['recall', 'precision', 'F-meansure'])\n",
    "plt.ylabel('value')\n",
    "plt.show()\n"
   ]
  },
  {
   "cell_type": "code",
   "execution_count": null,
   "metadata": {},
   "outputs": [],
   "source": []
  }
 ],
 "metadata": {
  "kernelspec": {
   "display_name": "Python 3",
   "language": "python",
   "name": "python3"
  },
  "language_info": {
   "codemirror_mode": {
    "name": "ipython",
    "version": 3
   },
   "file_extension": ".py",
   "mimetype": "text/x-python",
   "name": "python",
   "nbconvert_exporter": "python",
   "pygments_lexer": "ipython3",
   "version": "3.7.2"
  }
 },
 "nbformat": 4,
 "nbformat_minor": 2
}
