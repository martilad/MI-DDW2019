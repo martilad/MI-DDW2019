{
 "cells": [
  {
   "cell_type": "markdown",
   "metadata": {},
   "source": [
    "### Task 5"
   ]
  },
  {
   "cell_type": "code",
   "execution_count": 1,
   "metadata": {},
   "outputs": [],
   "source": [
    "import copy\n",
    "import numpy as np\n",
    "import pandas as pd\n",
    "from collections import Counter"
   ]
  },
  {
   "cell_type": "markdown",
   "metadata": {},
   "source": [
    "#### Apriori from lecture"
   ]
  },
  {
   "cell_type": "code",
   "execution_count": 2,
   "metadata": {},
   "outputs": [],
   "source": [
    "def frequentItems(transactions, support):\n",
    "    counter = Counter()\n",
    "    for trans in transactions:\n",
    "        counter.update(frozenset([t]) for t in trans)\n",
    "    return set(item for item in counter if counter[item]/len(transactions) >= support), counter\n",
    "\n",
    "def generateCandidates(L, k):\n",
    "    candidates = set()\n",
    "    for a in L:\n",
    "        for b in L:\n",
    "            union = a | b\n",
    "            if len(union) == k and a != b:\n",
    "                candidates.add(union)\n",
    "    return candidates\n",
    "\n",
    "def filterCandidates(transactions, itemsets, support):\n",
    "    counter = Counter()\n",
    "    for trans in transactions:\n",
    "        subsets = [itemset for itemset in itemsets if itemset.issubset(trans)]\n",
    "        counter.update(subsets)\n",
    "    return set(item for item in counter if counter[item]/len(transactions) >= support), counter\n",
    "\n",
    "def apriori(transactions, support):\n",
    "    result = list()\n",
    "    resultc = Counter()\n",
    "    candidates, counter = frequentItems(transactions, support)\n",
    "    result += candidates\n",
    "    resultc += counter\n",
    "    k = 2\n",
    "    while candidates:\n",
    "        candidates = generateCandidates(candidates, k)\n",
    "        candidates,counter = filterCandidates(transactions, candidates, support)\n",
    "        result += candidates\n",
    "        resultc += counter\n",
    "        k += 1\n",
    "    resultc = {item:(resultc[item]/len(transactions)) for item in resultc}\n",
    "    return result, resultc"
   ]
  },
  {
   "cell_type": "markdown",
   "metadata": {},
   "source": [
    "#### Generate posibility always one to all-1"
   ]
  },
  {
   "cell_type": "code",
   "execution_count": 3,
   "metadata": {},
   "outputs": [],
   "source": [
    "def generate_posibility(itemset):\n",
    "    items = list(itemset)\n",
    "    res = []\n",
    "    for item in items:\n",
    "        new_list = copy.deepcopy(items)\n",
    "        new_list.remove(item)\n",
    "        new_listr = []\n",
    "        new_listr.append(item)\n",
    "        res.append((new_list, new_listr))\n",
    "    \n",
    "    return res"
   ]
  },
  {
   "cell_type": "markdown",
   "metadata": {},
   "source": [
    "#### Generate asociation rules"
   ]
  },
  {
   "cell_type": "code",
   "execution_count": 4,
   "metadata": {},
   "outputs": [],
   "source": [
    "def generate_rules(itemsets, supports, min_confidence, metric):\n",
    "    generated_rules = []\n",
    "\n",
    "    for itemset in itemsets:\n",
    "        if len(itemset) < 2:\n",
    "            continue\n",
    "\n",
    "        for entry in generate_posibility(itemset):\n",
    "            \n",
    "            left_side, right_side = entry\n",
    "            \n",
    "            if metric == \"confidence\":\n",
    "                rule_confidence = supports[itemset] / supports[frozenset(entry[0])]\n",
    "                \n",
    "            elif metric == \"lift\":\n",
    "                rule_confidence = supports[itemset] / (supports[frozenset(entry[0])] * supports[frozenset(entry[1])])\n",
    "                \n",
    "            elif metric == \"conviction\":\n",
    "                rule_confidence = ((1-supports[frozenset(entry[1])]) / (1-supports[itemset] / supports[frozenset(entry[0])])) \\\n",
    "                if (1-supports[itemset] / supports[frozenset(entry[0])]) != 0 else 0\n",
    "\n",
    "            else:\n",
    "                raise ValueError(\"Metric must be confidence or lift or conviction.\")\n",
    "            if rule_confidence >= min_confidence:\n",
    "                generated_rules.append((left_side, right_side, round(rule_confidence, 3), round(supports[itemset], 3)))     \n",
    "    return sorted(generated_rules, key=lambda i: (i[3], i[2]), reverse=True)"
   ]
  },
  {
   "cell_type": "markdown",
   "metadata": {},
   "source": [
    "#### Read the files"
   ]
  },
  {
   "cell_type": "code",
   "execution_count": 5,
   "metadata": {},
   "outputs": [],
   "source": [
    "# read csv files\n",
    "search_engine_map = pd.read_csv('../data/search_engine_map.csv')\n",
    "visitors = pd.read_csv('../data/visitors.csv')\n",
    "clicks = pd.read_csv('../data/clicks.csv')"
   ]
  },
  {
   "cell_type": "markdown",
   "metadata": {},
   "source": [
    "#### General statistic"
   ]
  },
  {
   "cell_type": "code",
   "execution_count": 6,
   "metadata": {},
   "outputs": [
    {
     "name": "stdout",
     "output_type": "stream",
     "text": [
      "Total number of visitors: 15559\n",
      "Total number of referrers 140\n",
      "Total number of clicks 38451\n",
      "Total number of pages 826\n",
      "\n",
      "Some statistic about times on the page and the page score.\n"
     ]
    },
    {
     "data": {
      "text/html": [
       "<div>\n",
       "<style scoped>\n",
       "    .dataframe tbody tr th:only-of-type {\n",
       "        vertical-align: middle;\n",
       "    }\n",
       "\n",
       "    .dataframe tbody tr th {\n",
       "        vertical-align: top;\n",
       "    }\n",
       "\n",
       "    .dataframe thead th {\n",
       "        text-align: right;\n",
       "    }\n",
       "</style>\n",
       "<table border=\"1\" class=\"dataframe\">\n",
       "  <thead>\n",
       "    <tr style=\"text-align: right;\">\n",
       "      <th></th>\n",
       "      <th>TimeOnPage</th>\n",
       "      <th>PageScore</th>\n",
       "    </tr>\n",
       "  </thead>\n",
       "  <tbody>\n",
       "    <tr>\n",
       "      <th>count</th>\n",
       "      <td>38451.000000</td>\n",
       "      <td>38451.000000</td>\n",
       "    </tr>\n",
       "    <tr>\n",
       "      <th>mean</th>\n",
       "      <td>72.412421</td>\n",
       "      <td>143.092975</td>\n",
       "    </tr>\n",
       "    <tr>\n",
       "      <th>std</th>\n",
       "      <td>114.640528</td>\n",
       "      <td>260.595877</td>\n",
       "    </tr>\n",
       "    <tr>\n",
       "      <th>min</th>\n",
       "      <td>30.000000</td>\n",
       "      <td>30.000000</td>\n",
       "    </tr>\n",
       "    <tr>\n",
       "      <th>25%</th>\n",
       "      <td>30.000000</td>\n",
       "      <td>30.000000</td>\n",
       "    </tr>\n",
       "    <tr>\n",
       "      <th>50%</th>\n",
       "      <td>30.000000</td>\n",
       "      <td>62.000000</td>\n",
       "    </tr>\n",
       "    <tr>\n",
       "      <th>75%</th>\n",
       "      <td>60.000000</td>\n",
       "      <td>125.000000</td>\n",
       "    </tr>\n",
       "    <tr>\n",
       "      <th>max</th>\n",
       "      <td>2640.000000</td>\n",
       "      <td>5753.000000</td>\n",
       "    </tr>\n",
       "  </tbody>\n",
       "</table>\n",
       "</div>"
      ],
      "text/plain": [
       "         TimeOnPage     PageScore\n",
       "count  38451.000000  38451.000000\n",
       "mean      72.412421    143.092975\n",
       "std      114.640528    260.595877\n",
       "min       30.000000     30.000000\n",
       "25%       30.000000     30.000000\n",
       "50%       30.000000     62.000000\n",
       "75%       60.000000    125.000000\n",
       "max     2640.000000   5753.000000"
      ]
     },
     "metadata": {},
     "output_type": "display_data"
    },
    {
     "name": "stdout",
     "output_type": "stream",
     "text": [
      "\n",
      "Some statistic about lenght of visit and number of visit pages for visitor.\n"
     ]
    },
    {
     "data": {
      "text/html": [
       "<div>\n",
       "<style scoped>\n",
       "    .dataframe tbody tr th:only-of-type {\n",
       "        vertical-align: middle;\n",
       "    }\n",
       "\n",
       "    .dataframe tbody tr th {\n",
       "        vertical-align: top;\n",
       "    }\n",
       "\n",
       "    .dataframe thead th {\n",
       "        text-align: right;\n",
       "    }\n",
       "</style>\n",
       "<table border=\"1\" class=\"dataframe\">\n",
       "  <thead>\n",
       "    <tr style=\"text-align: right;\">\n",
       "      <th></th>\n",
       "      <th>Length_seconds</th>\n",
       "      <th>Length_pagecount</th>\n",
       "    </tr>\n",
       "  </thead>\n",
       "  <tbody>\n",
       "    <tr>\n",
       "      <th>count</th>\n",
       "      <td>15559.000000</td>\n",
       "      <td>15559.000000</td>\n",
       "    </tr>\n",
       "    <tr>\n",
       "      <th>mean</th>\n",
       "      <td>128.908028</td>\n",
       "      <td>2.471239</td>\n",
       "    </tr>\n",
       "    <tr>\n",
       "      <th>std</th>\n",
       "      <td>328.777507</td>\n",
       "      <td>2.998959</td>\n",
       "    </tr>\n",
       "    <tr>\n",
       "      <th>min</th>\n",
       "      <td>0.000000</td>\n",
       "      <td>1.000000</td>\n",
       "    </tr>\n",
       "    <tr>\n",
       "      <th>25%</th>\n",
       "      <td>0.000000</td>\n",
       "      <td>1.000000</td>\n",
       "    </tr>\n",
       "    <tr>\n",
       "      <th>50%</th>\n",
       "      <td>0.000000</td>\n",
       "      <td>1.000000</td>\n",
       "    </tr>\n",
       "    <tr>\n",
       "      <th>75%</th>\n",
       "      <td>120.000000</td>\n",
       "      <td>3.000000</td>\n",
       "    </tr>\n",
       "    <tr>\n",
       "      <th>max</th>\n",
       "      <td>5280.000000</td>\n",
       "      <td>50.000000</td>\n",
       "    </tr>\n",
       "  </tbody>\n",
       "</table>\n",
       "</div>"
      ],
      "text/plain": [
       "       Length_seconds  Length_pagecount\n",
       "count    15559.000000      15559.000000\n",
       "mean       128.908028          2.471239\n",
       "std        328.777507          2.998959\n",
       "min          0.000000          1.000000\n",
       "25%          0.000000          1.000000\n",
       "50%          0.000000          1.000000\n",
       "75%        120.000000          3.000000\n",
       "max       5280.000000         50.000000"
      ]
     },
     "metadata": {},
     "output_type": "display_data"
    }
   ],
   "source": [
    "print(\"Total number of visitors: {}\".format(visitors[\"VisitID\"].nunique()))\n",
    "print(\"Total number of referrers {}\".format(search_engine_map[\"Referrer\"].nunique()))\n",
    "print(\"Total number of clicks {}\".format(clicks[\"LocalID\"].nunique()))\n",
    "print(\"Total number of pages {}\".format(clicks[\"PageName\"].nunique()))\n",
    "print()\n",
    "print('Some statistic about times on the page and the page score.')\n",
    "display(clicks[['TimeOnPage', 'PageScore']].describe())\n",
    "print()\n",
    "print('Some statistic about lenght of visit and number of visit pages for visitor.')\n",
    "display(visitors[['Length_seconds', 'Length_pagecount']].describe())"
   ]
  },
  {
   "cell_type": "code",
   "execution_count": 7,
   "metadata": {},
   "outputs": [
    {
     "name": "stdout",
     "output_type": "stream",
     "text": [
      "Data size: 38450\n"
     ]
    }
   ],
   "source": [
    "# do intersection of files to merge it for next work\n",
    "data = pd.merge(pd.merge(clicks, visitors, on='VisitID'), search_engine_map, on='Referrer')\n",
    "print(\"Data size:\", len(data))"
   ]
  },
  {
   "cell_type": "markdown",
   "metadata": {},
   "source": [
    "#### Remove short visits and visits with low number of pages"
   ]
  },
  {
   "cell_type": "code",
   "execution_count": 8,
   "metadata": {
    "scrolled": true
   },
   "outputs": [
    {
     "name": "stdout",
     "output_type": "stream",
     "text": [
      "Data size after remove short (if add some hight number it is same number for example 30): 27041\n",
      "This short visits can be the bad meansure of it.\n",
      "Kepp only users visit two or more pages. Size after remove: 27016\n",
      "Remove the page with the definitly bad name. Size after remove: 27011\n"
     ]
    }
   ],
   "source": [
    "# remove too short visits\n",
    "data = data[data.Length_seconds > 7]\n",
    "print(\"Data size after remove short (if add some hight number it is same number for example 30):\", len(data))\n",
    "print(\"This short visits can be the bad meansure of it.\")\n",
    "\n",
    "data = data[data['Length_pagecount'] > 1]\n",
    "print(\"Kepp only users visit two or more pages. Size after remove:\", len(data))\n",
    "\n",
    "indexNames = data[ data['PageName'] == 'ww' ].index\n",
    "# Delete these row indexes from dataFrame\n",
    "data.drop(indexNames , inplace=True)\n",
    "indexNames = data[ data['PageName'] == 'wwww' ].index\n",
    "# Delete these row indexes from dataFrame\n",
    "data.drop(indexNames , inplace=True)\n",
    "indexNames = data[ data['PageName'] == 'www' ].index\n",
    "# Delete these row indexes from dataFrame\n",
    "data.drop(indexNames , inplace=True)\n",
    "print(\"Remove the page with the definitly bad name. Size after remove:\", len(data))\n",
    "\n",
    "data_chain = copy.deepcopy(data)"
   ]
  },
  {
   "cell_type": "code",
   "execution_count": 9,
   "metadata": {
    "scrolled": false
   },
   "outputs": [
    {
     "name": "stdout",
     "output_type": "stream",
     "text": [
      "<class 'pandas.core.frame.DataFrame'>\n",
      "Int64Index: 27011 entries, 6 to 38449\n",
      "Data columns (total 19 columns):\n",
      "LocalID             27011 non-null int64\n",
      "PageID              27011 non-null int64\n",
      "VisitID             27011 non-null int64\n",
      "PageName            27011 non-null object\n",
      "CatName             27011 non-null object\n",
      "CatID               27011 non-null int64\n",
      "ExtCatName          27011 non-null object\n",
      "ExtCatID            27011 non-null int64\n",
      "TopicName           27011 non-null object\n",
      "TopicID             27011 non-null int64\n",
      "TimeOnPage          27011 non-null int64\n",
      "PageScore           27011 non-null int64\n",
      "SequenceNumber      27011 non-null int64\n",
      "Referrer            27011 non-null object\n",
      "Day                 27011 non-null object\n",
      "Hour                27011 non-null int64\n",
      "Length_seconds      27011 non-null int64\n",
      "Length_pagecount    27011 non-null int64\n",
      "Type                13742 non-null object\n",
      "dtypes: int64(12), object(7)\n",
      "memory usage: 4.1+ MB\n"
     ]
    }
   ],
   "source": [
    "data.info()"
   ]
  },
  {
   "cell_type": "markdown",
   "metadata": {},
   "source": [
    "#### Drop not usefull column"
   ]
  },
  {
   "cell_type": "code",
   "execution_count": 10,
   "metadata": {},
   "outputs": [],
   "source": [
    "data.drop('LocalID', axis=1, inplace=True)\n",
    "data.drop('CatID', axis=1, inplace=True)\n",
    "data.drop('ExtCatID', axis=1, inplace=True)\n",
    "data.drop('PageID', axis=1, inplace=True)\n",
    "data.drop('VisitID', axis=1, inplace=True)\n",
    "data.drop('TopicID', axis=1, inplace=True)"
   ]
  },
  {
   "cell_type": "code",
   "execution_count": 11,
   "metadata": {
    "scrolled": true
   },
   "outputs": [
    {
     "name": "stdout",
     "output_type": "stream",
     "text": [
      "<class 'pandas.core.frame.DataFrame'>\n",
      "Int64Index: 27011 entries, 6 to 38449\n",
      "Data columns (total 13 columns):\n",
      "PageName            27011 non-null object\n",
      "CatName             27011 non-null object\n",
      "ExtCatName          27011 non-null object\n",
      "TopicName           27011 non-null object\n",
      "TimeOnPage          27011 non-null int64\n",
      "PageScore           27011 non-null int64\n",
      "SequenceNumber      27011 non-null int64\n",
      "Referrer            27011 non-null object\n",
      "Day                 27011 non-null object\n",
      "Hour                27011 non-null int64\n",
      "Length_seconds      27011 non-null int64\n",
      "Length_pagecount    27011 non-null int64\n",
      "Type                13742 non-null object\n",
      "dtypes: int64(6), object(7)\n",
      "memory usage: 2.9+ MB\n"
     ]
    },
    {
     "data": {
      "text/plain": [
       "None"
      ]
     },
     "metadata": {},
     "output_type": "display_data"
    }
   ],
   "source": [
    "display(data.info())"
   ]
  },
  {
   "cell_type": "markdown",
   "metadata": {},
   "source": [
    "#### Do diskretication, because association rules cant work with countinous. Need convert to ordinal (bins, intervals)"
   ]
  },
  {
   "cell_type": "code",
   "execution_count": 12,
   "metadata": {
    "scrolled": true
   },
   "outputs": [],
   "source": [
    "data[\"TimeOnPage\"] = pd.cut(data[\"TimeOnPage\"],20)\n",
    "data[\"PageScore\"] = pd.cut(data[\"PageScore\"],20)\n",
    "data[\"SequenceNumber\"] = pd.cut(data[\"SequenceNumber\"],20)\n",
    "data[\"Hour\"] = pd.cut(data[\"Hour\"],24)\n",
    "data[\"Length_seconds\"] = pd.cut(data[\"Length_seconds\"],20)\n",
    "data[\"Length_pagecount\"] = pd.cut(data[\"Length_pagecount\"],20)"
   ]
  },
  {
   "cell_type": "code",
   "execution_count": 13,
   "metadata": {
    "scrolled": true
   },
   "outputs": [
    {
     "data": {
      "text/plain": [
       "PageName            637\n",
       "CatName               5\n",
       "ExtCatName           22\n",
       "TopicName            27\n",
       "TimeOnPage           15\n",
       "PageScore            17\n",
       "SequenceNumber       20\n",
       "Referrer            122\n",
       "Day                   7\n",
       "Hour                 24\n",
       "Length_seconds       18\n",
       "Length_pagecount     18\n",
       "Type                  5\n",
       "dtype: int64"
      ]
     },
     "metadata": {},
     "output_type": "display_data"
    }
   ],
   "source": [
    "display(data.nunique())"
   ]
  },
  {
   "cell_type": "code",
   "execution_count": 14,
   "metadata": {
    "scrolled": true
   },
   "outputs": [
    {
     "data": {
      "text/html": [
       "<div>\n",
       "<style scoped>\n",
       "    .dataframe tbody tr th:only-of-type {\n",
       "        vertical-align: middle;\n",
       "    }\n",
       "\n",
       "    .dataframe tbody tr th {\n",
       "        vertical-align: top;\n",
       "    }\n",
       "\n",
       "    .dataframe thead th {\n",
       "        text-align: right;\n",
       "    }\n",
       "</style>\n",
       "<table border=\"1\" class=\"dataframe\">\n",
       "  <thead>\n",
       "    <tr style=\"text-align: right;\">\n",
       "      <th></th>\n",
       "      <th>PageName</th>\n",
       "      <th>CatName</th>\n",
       "      <th>ExtCatName</th>\n",
       "      <th>TopicName</th>\n",
       "      <th>TimeOnPage</th>\n",
       "      <th>PageScore</th>\n",
       "      <th>SequenceNumber</th>\n",
       "      <th>Referrer</th>\n",
       "      <th>Day</th>\n",
       "      <th>Hour</th>\n",
       "      <th>Length_seconds</th>\n",
       "      <th>Length_pagecount</th>\n",
       "      <th>Type</th>\n",
       "    </tr>\n",
       "  </thead>\n",
       "  <tbody>\n",
       "    <tr>\n",
       "      <th>6</th>\n",
       "      <td>TravelAgency</td>\n",
       "      <td>Info</td>\n",
       "      <td>homepage</td>\n",
       "      <td>In general</td>\n",
       "      <td>(27.39, 160.5]</td>\n",
       "      <td>(24.277, 316.15]</td>\n",
       "      <td>(0.951, 3.45]</td>\n",
       "      <td>URI_9</td>\n",
       "      <td>Monday</td>\n",
       "      <td>(0.958, 1.917]</td>\n",
       "      <td>(54.78, 321.0]</td>\n",
       "      <td>(6.8, 9.2]</td>\n",
       "      <td>Catalogue</td>\n",
       "    </tr>\n",
       "    <tr>\n",
       "      <th>7</th>\n",
       "      <td>TravelAgency</td>\n",
       "      <td>Info</td>\n",
       "      <td>homepage</td>\n",
       "      <td>In general</td>\n",
       "      <td>(27.39, 160.5]</td>\n",
       "      <td>(24.277, 316.15]</td>\n",
       "      <td>(0.951, 3.45]</td>\n",
       "      <td>URI_9</td>\n",
       "      <td>Monday</td>\n",
       "      <td>(0.958, 1.917]</td>\n",
       "      <td>(54.78, 321.0]</td>\n",
       "      <td>(6.8, 9.2]</td>\n",
       "      <td>Catalogue</td>\n",
       "    </tr>\n",
       "    <tr>\n",
       "      <th>8</th>\n",
       "      <td>TravelAgency</td>\n",
       "      <td>Info</td>\n",
       "      <td>homepage</td>\n",
       "      <td>In general</td>\n",
       "      <td>(27.39, 160.5]</td>\n",
       "      <td>(24.277, 316.15]</td>\n",
       "      <td>(5.9, 8.35]</td>\n",
       "      <td>URI_9</td>\n",
       "      <td>Monday</td>\n",
       "      <td>(0.958, 1.917]</td>\n",
       "      <td>(54.78, 321.0]</td>\n",
       "      <td>(6.8, 9.2]</td>\n",
       "      <td>Catalogue</td>\n",
       "    </tr>\n",
       "    <tr>\n",
       "      <th>9</th>\n",
       "      <td>lastminute</td>\n",
       "      <td>Search</td>\n",
       "      <td>Catalog</td>\n",
       "      <td>Lastminute</td>\n",
       "      <td>(27.39, 160.5]</td>\n",
       "      <td>(24.277, 316.15]</td>\n",
       "      <td>(0.951, 3.45]</td>\n",
       "      <td>URI_9</td>\n",
       "      <td>Monday</td>\n",
       "      <td>(0.958, 1.917]</td>\n",
       "      <td>(54.78, 321.0]</td>\n",
       "      <td>(6.8, 9.2]</td>\n",
       "      <td>Catalogue</td>\n",
       "    </tr>\n",
       "    <tr>\n",
       "      <th>10</th>\n",
       "      <td>Aeolian Islands</td>\n",
       "      <td>Search</td>\n",
       "      <td>Catalog</td>\n",
       "      <td>Lipari</td>\n",
       "      <td>(27.39, 160.5]</td>\n",
       "      <td>(24.277, 316.15]</td>\n",
       "      <td>(5.9, 8.35]</td>\n",
       "      <td>URI_9</td>\n",
       "      <td>Monday</td>\n",
       "      <td>(0.958, 1.917]</td>\n",
       "      <td>(54.78, 321.0]</td>\n",
       "      <td>(6.8, 9.2]</td>\n",
       "      <td>Catalogue</td>\n",
       "    </tr>\n",
       "  </tbody>\n",
       "</table>\n",
       "</div>"
      ],
      "text/plain": [
       "           PageName CatName ExtCatName   TopicName      TimeOnPage  \\\n",
       "6      TravelAgency    Info   homepage  In general  (27.39, 160.5]   \n",
       "7      TravelAgency    Info   homepage  In general  (27.39, 160.5]   \n",
       "8      TravelAgency    Info   homepage  In general  (27.39, 160.5]   \n",
       "9        lastminute  Search    Catalog  Lastminute  (27.39, 160.5]   \n",
       "10  Aeolian Islands  Search    Catalog      Lipari  (27.39, 160.5]   \n",
       "\n",
       "           PageScore SequenceNumber Referrer     Day            Hour  \\\n",
       "6   (24.277, 316.15]  (0.951, 3.45]    URI_9  Monday  (0.958, 1.917]   \n",
       "7   (24.277, 316.15]  (0.951, 3.45]    URI_9  Monday  (0.958, 1.917]   \n",
       "8   (24.277, 316.15]    (5.9, 8.35]    URI_9  Monday  (0.958, 1.917]   \n",
       "9   (24.277, 316.15]  (0.951, 3.45]    URI_9  Monday  (0.958, 1.917]   \n",
       "10  (24.277, 316.15]    (5.9, 8.35]    URI_9  Monday  (0.958, 1.917]   \n",
       "\n",
       "    Length_seconds Length_pagecount       Type  \n",
       "6   (54.78, 321.0]       (6.8, 9.2]  Catalogue  \n",
       "7   (54.78, 321.0]       (6.8, 9.2]  Catalogue  \n",
       "8   (54.78, 321.0]       (6.8, 9.2]  Catalogue  \n",
       "9   (54.78, 321.0]       (6.8, 9.2]  Catalogue  \n",
       "10  (54.78, 321.0]       (6.8, 9.2]  Catalogue  "
      ]
     },
     "metadata": {},
     "output_type": "display_data"
    }
   ],
   "source": [
    "display(data.head())"
   ]
  },
  {
   "cell_type": "code",
   "execution_count": 15,
   "metadata": {},
   "outputs": [],
   "source": [
    "def convert_pandas_to_list_of_lists(data_frame):\n",
    "    return [[col + \"=\" + str(row[col]) for col in list(data_frame)] for index, row in data_frame.iterrows()]"
   ]
  },
  {
   "cell_type": "code",
   "execution_count": 16,
   "metadata": {},
   "outputs": [],
   "source": [
    "def print_topn_rules(rules, n, contain):\n",
    "    cnt = 0\n",
    "    for rule in rules[:n]:\n",
    "        for i in rule[0]:\n",
    "            if contain in i:\n",
    "                print(\"{} -> {} - SUPPORT: {} - CONFIDENCE: {}\".format(rule[0], rule[1], rule[3], rule[2]))\n",
    "                break\n",
    "        cnt += 1\n",
    "        if cnt == n:\n",
    "            break"
   ]
  },
  {
   "cell_type": "code",
   "execution_count": 17,
   "metadata": {},
   "outputs": [],
   "source": [
    "data_for_asociation_rules = convert_pandas_to_list_of_lists(data)"
   ]
  },
  {
   "cell_type": "code",
   "execution_count": 18,
   "metadata": {},
   "outputs": [],
   "source": [
    "n_print = 10\n",
    "result, resultc = apriori(data_for_asociation_rules, 0.05)"
   ]
  },
  {
   "cell_type": "code",
   "execution_count": 19,
   "metadata": {},
   "outputs": [
    {
     "name": "stdout",
     "output_type": "stream",
     "text": [
      "['PageScore=(24.277, 316.15]'] -> ['TimeOnPage=(27.39, 160.5]'] - SUPPORT: 0.849 - CONFIDENCE: 0.974\n",
      "['TimeOnPage=(27.39, 160.5]'] -> ['PageScore=(24.277, 316.15]'] - SUPPORT: 0.849 - CONFIDENCE: 0.969\n",
      "['SequenceNumber=(0.951, 3.45]'] -> ['PageScore=(24.277, 316.15]'] - SUPPORT: 0.519 - CONFIDENCE: 0.914\n",
      "['PageScore=(24.277, 316.15]'] -> ['SequenceNumber=(0.951, 3.45]'] - SUPPORT: 0.519 - CONFIDENCE: 0.595\n",
      "['SequenceNumber=(0.951, 3.45]', 'TimeOnPage=(27.39, 160.5]'] -> ['PageScore=(24.277, 316.15]'] - SUPPORT: 0.496 - CONFIDENCE: 1.0\n",
      "['PageScore=(24.277, 316.15]', 'SequenceNumber=(0.951, 3.45]'] -> ['TimeOnPage=(27.39, 160.5]'] - SUPPORT: 0.496 - CONFIDENCE: 0.956\n",
      "['SequenceNumber=(0.951, 3.45]'] -> ['TimeOnPage=(27.39, 160.5]'] - SUPPORT: 0.496 - CONFIDENCE: 0.874\n",
      "['PageScore=(24.277, 316.15]', 'TimeOnPage=(27.39, 160.5]'] -> ['SequenceNumber=(0.951, 3.45]'] - SUPPORT: 0.496 - CONFIDENCE: 0.584\n",
      "['TimeOnPage=(27.39, 160.5]'] -> ['SequenceNumber=(0.951, 3.45]'] - SUPPORT: 0.496 - CONFIDENCE: 0.566\n",
      "['Length_seconds=(54.78, 321.0]'] -> ['PageScore=(24.277, 316.15]'] - SUPPORT: 0.459 - CONFIDENCE: 0.982\n"
     ]
    }
   ],
   "source": [
    "print_topn_rules(generate_rules(result, resultc, 0.05, metric=\"confidence\"), n_print, '=')"
   ]
  },
  {
   "cell_type": "code",
   "execution_count": 20,
   "metadata": {},
   "outputs": [
    {
     "name": "stdout",
     "output_type": "stream",
     "text": [
      "['TimeOnPage=(27.39, 160.5]'] -> ['PageScore=(24.277, 316.15]'] - SUPPORT: 0.849 - CONFIDENCE: 0.969\n",
      "['SequenceNumber=(0.951, 3.45]', 'TimeOnPage=(27.39, 160.5]'] -> ['PageScore=(24.277, 316.15]'] - SUPPORT: 0.496 - CONFIDENCE: 1.0\n",
      "['PageScore=(24.277, 316.15]', 'TimeOnPage=(27.39, 160.5]'] -> ['SequenceNumber=(0.951, 3.45]'] - SUPPORT: 0.496 - CONFIDENCE: 0.584\n",
      "['TimeOnPage=(27.39, 160.5]'] -> ['SequenceNumber=(0.951, 3.45]'] - SUPPORT: 0.496 - CONFIDENCE: 0.566\n"
     ]
    }
   ],
   "source": [
    "print_topn_rules(generate_rules(result, resultc, 0.05, metric=\"confidence\"), n_print, 'TimeOnPage')"
   ]
  },
  {
   "cell_type": "markdown",
   "metadata": {},
   "source": [
    "#### Chains"
   ]
  },
  {
   "cell_type": "code",
   "execution_count": 21,
   "metadata": {},
   "outputs": [],
   "source": [
    "chained = {i: sorted([[i[1][0], i[1][1]] for i in\n",
    "                data_chain.loc[data_chain['VisitID'] == i][['SequenceNumber', 'PageName']].iterrows()],\n",
    "                              key=lambda x: (x[0]), reverse=False) for i in data_chain['VisitID'].unique()}"
   ]
  },
  {
   "cell_type": "code",
   "execution_count": 22,
   "metadata": {},
   "outputs": [
    {
     "name": "stdout",
     "output_type": "stream",
     "text": [
      "The longest chain of pages:\n",
      "\n",
      "TravelAgency -> light hiking -> sightseeing tours -> England France Ireland capital Dublin Paris London sightseeing tour -> Swiss Alps Valais -> Ireland &#39;green island&#39; -> England and London residence of English kings -> Baltics small circle pobaltíím a tour -> Lofoten Norway Sweden United Arctic Circle -> Norway Norwegian fjords -> francie bretaň daughter Ocean -> Russia Saint Petersburg jewel of Russia and the Republic pobaltíské -> Lofoten Norway Sweden United Arctic Circle -> kiev Kiev treasures and Ruthenia -> Swiss beauty of Switzerland and the Alpine giants -> Ireland &#39;green island&#39; -> Norway Norwegian fjords -> Poland Great Circle Poland -> Scotland United circuit Scotland -> large briánie Ireland Nature sights History -> Germany Denmark Hanseatic cities of the Baltic and Danish Kingdom -> Russia Moscow Novgorod St. Petersburg -> Ireland &#39;green island&#39; -> Turkey&#39;s west coast -> Serbia Montenegro Bosnia and Herzegovina treasures and secrets Yugoslav Balkans holiday 05 -> United Kingdom England classic circuit -> UK English Riviera and Cornwall magical corner of King Arthur -> Turkey Eastern Turkey airlines -> Sicily Southern Italy very detailed circuit -> corsica sardinia -> Mediterranean islands of Malta Gozo and Sicily -> Morocco Morocco big circle plane -> France wine and spirits -> stays with trips -> Aeolian Islands -> Central volcanoes of southern Italy (Sicily Lipari) -> volcanoes of central and southern Italy (Sicily Lipari) a tour -> Aeolian Islands -> Sicily Aeolian Islands with a visit to Sicily vacation residence with 05 trips -> Corsica -> Corsica (stay with excursions) holidays 05 -> Corsica Corsica with light tourism holiday 05 -> Corsica emerald island of Corsica holiday 05 -> Elba Corsica Sardinia -> stays with trips -> Sicily sea and sights with a trip to the Aeolian Islands -> Croatian national parks and natural beauty of Croatia -> CATALOG -> hotelbuses -> hotelbuses\n",
      "\n",
      "tours with tents -> Turkey in the sign of the crescent (western Turkey) -> stays with trips -> ancient monuments of Greece staying in Tolu -> the northern Adriatic Sea and its islands -> Greece and Bulgaria stay with tours -> Provencal wander -> France with the scent of the Atlantic -> Spain French Riviera -> Corsica -> Corsica Corsica with light tourism holiday 05 -> corsica sardinia -> Elba Corsica Sardinia -> Corsica emerald island of Corsica tourism and holidays 05 -> Corsica (stay with excursions) holidays 05 -> Montenegro Alet Becici much stay with excursions in the price -> stays -> Lefkada air package tours -> hotelbuses -> Morocco Morocco cold country with a hot sun, a tour -> Tunisian dates land sea and sand -> sightseeing tours -> Italy Florence Renaissance gem -> Greco big circle and Ionian Islands -> Lombardy culture history, gastronomy -> Norway Norwegian fjords -> volcanoes of central and southern Italy (Sicily Lipari) a tour -> Lithuania Latvia Estonia Helsinki St. Petersburg circuit pobaltískými republics with a visit to St. Petersburg and Finland -> Hungarian wines and thermal baths -> Baltics small circle pobaltíím a tour -> Russia Saint Petersburg jewel of Russia and the Republic pobaltíské -> kiev Kiev treasures and Ruthenia -> Swiss beauty of Switzerland and the Alpine giants -> Poland Great Circle Poland -> Scotland United circuit Scotland -> Germany Denmark Hanseatic cities of the Baltic and Danish Kingdom -> Baltics small circle pobaltíím a tour -> canyons and islands south of france -> Germany Denmark Hanseatic cities of the Baltic and Danish Kingdom -> Hungary Budapest monuments and thermal spas and Bratislava -> Ukraine podkapatská rus relaxing vacation wander Carpathian Ruthenia 05 -> Ukraine podkapatská rus relaxing vacation wander Carpathian Ruthenia 05\n",
      "\n",
      "TravelAgency -> TravelAgency -> TravelAgency -> TravelAgency -> TravelAgency -> TravelAgency -> TravelAgency -> TravelAgency -> TravelAgency -> TravelAgency -> TravelAgency -> TravelAgency -> TravelAgency -> TravelAgency -> TravelAgency -> TravelAgency -> TravelAgency -> TravelAgency -> TravelAgency -> TravelAgency -> TravelAgency -> TravelAgency -> TravelAgency -> TravelAgency -> TravelAgency -> TravelAgency -> TravelAgency -> TravelAgency -> TravelAgency -> TravelAgency -> TravelAgency -> TravelAgency -> TravelAgency -> TravelAgency -> TravelAgency -> TravelAgency -> TravelAgency -> TravelAgency -> TravelAgency -> TravelAgency\n",
      "\n",
      "TravelAgency -> tours with tents -> Morocco Morocco Maghreb tour of Pearl -> Romanian Danube delta on ships and dry feet -> light hiking -> France provence natural parks -> tours with tents -> Greek national parks and sea greece -> Greek Antiquity sea and mountains -> Greek island of Crete Gods stop to Corfu -> Baltics Baltic countries, Russia -> Greek national parks and sea greece -> National Parks and the southern coast of England and Wales -> Romania as Dracula and other pearls tourism Romania 05 -> Bulgarian national parks and sea Bulgaria -> Black Mountain NC Sea and the Black Mountains hiking tour of 05 tourism -> Iceland southern Norway Faroe Islands -> France Spain Pyrenees natural parks -> Portugal country seafarers -> Corsica emerald island of Corsica tourism and holidays 05 -> Turkey in the sign of the crescent (western Turkey) -> tours with tents -> Polish walks in the Polish Carpathians -> Ukraine wander Transcarpathian Ukraine holiday 05 -> Norway Sweden Norwegian fjords and glaciers -> Greek national parks and sea greece -> National parks and Sea of ​​Italy Ligurian Riviera -> Bulgarian national parks and sea Bulgaria -> Greek national parks and sea greece -> Sicily Islands inner fire (Sicily Lipari) -> Indian summer in Crimea -> National parks and Sea of ​​Italy Ligurian Riviera -> National Parks and the southern coast of England and Wales -> volcanoes and canyons monasteries France -> pearls Yugoslav Balkans -> National parks and sea greece -> Norway Sweden Norwegian fjords and glaciers -> Bulgarian national parks and sea Bulgaria -> Bulgarian national parks and sea Bulgaria\n",
      "\n",
      "TravelAgency -> tours with tents -> Montenegro -> Montenegro Alet Becici much stay with excursions in the price -> Montenegro -> light hiking -> France provence natural parks -> Corsica Corsica with light tourism holiday 05 -> Italy relaxing week in the Alps iii. Queen of the Dolomites Marmolada -> Sicily Aeolian Islands with a visit to Sicily vacation residence with 05 trips -> Montenegro Alet Becici much stay with excursions in the price -> Spain Spanish spring festivities Andorra and southern France -> Bulgaria stay with trips vacation visit to Turkey 05 -> Montenegro Alet Becici much stay with excursions in the price -> island country of fire and ice -> Morocco Morocco cold country with a hot sun, a tour -> Croatia national parks and Korcula -> tours with tents -> Turkey in the sign of the crescent (western Turkey) -> Sicily Islands inner fire (Sicily Lipari) -> tours with tents -> Albania country eagles sea and mountains -> Romanian Danube delta on ships and dry feet -> Ukraine wander Transcarpathian Ukraine holiday 05 -> Elba Corsica Sardinia -> Natural parks and sea Perigord France -> Turkey in the sign of the crescent (western Turkey) -> hotelbuses -> island country of fire and ice -> Morocco Morocco cold country with a hot sun, a tour -> Tunisian dates land sea and sand -> Aeolian Islands -> Austria after plane through the Alps Tauern bike path cyclo tour -> Austro around lakes, mountains and lakes of the Salzkammergut cycling tour -> Balaton: wine volcano swimming -> dolomites on the flat trail Dravskem Austria Italy -> Vineyards and thermal Hungary Austria -> Vineyards and thermal Hungary Austria\n",
      "\n",
      "The shortest chain of pages:\n",
      "\n",
      "TravelAgency -> TravelAgency\n",
      "\n",
      "TravelAgency -> TravelAgency\n",
      "\n",
      "TravelAgency -> TravelAgency\n",
      "\n",
      "TravelAgency -> TravelAgency\n",
      "\n",
      "TravelAgency -> TravelAgency\n",
      "\n"
     ]
    }
   ],
   "source": [
    "print(\"The longest chain of pages:\")\n",
    "print()\n",
    "for k in sorted(chained, key=lambda k: len(chained[k]), reverse=True)[:5]:\n",
    "    for i in range(len(chained[k])-1):\n",
    "        print(chained[k][i][1] + \" -> \", end='', sep='')\n",
    "    print(chained[k][i][1])\n",
    "    print()\n",
    "print(\"The shortest chain of pages:\")\n",
    "print()\n",
    "for k in sorted(chained, key=lambda k: len(chained[k]), reverse=False)[:5]:\n",
    "    for i in range(len(chained[k])-1):\n",
    "        print(chained[k][i][1] + \" -> \", end='', sep='')\n",
    "    print(chained[k][i][1])\n",
    "    print()"
   ]
  },
  {
   "cell_type": "code",
   "execution_count": null,
   "metadata": {},
   "outputs": [],
   "source": []
  }
 ],
 "metadata": {
  "kernelspec": {
   "display_name": "Python 3",
   "language": "python",
   "name": "python3"
  },
  "language_info": {
   "codemirror_mode": {
    "name": "ipython",
    "version": 3
   },
   "file_extension": ".py",
   "mimetype": "text/x-python",
   "name": "python",
   "nbconvert_exporter": "python",
   "pygments_lexer": "ipython3",
   "version": "3.7.2"
  }
 },
 "nbformat": 4,
 "nbformat_minor": 2
}
